{
 "cells": [
  {
   "cell_type": "markdown",
   "metadata": {},
   "source": [
    "# 1 | Preprocessing"
   ]
  },
  {
   "cell_type": "markdown",
   "metadata": {},
   "source": [
    "1. Splitting train-test data\n",
    "2. Label Encoding\n",
    "3. Handling missing values using Imputer class\n",
    "4. Normalization\n",
    "5. Pipelining"
   ]
  },
  {
   "cell_type": "markdown",
   "metadata": {},
   "source": [
    "## Importing libraries"
   ]
  },
  {
   "cell_type": "code",
   "execution_count": 1,
   "metadata": {},
   "outputs": [],
   "source": [
    "import numpy as np                                                   #data manipulation\n",
    "from sklearn.datasets import load_boston                             #dataset\n",
    "from sklearn.model_selection import train_test_split                 #splitting training & testing data\n",
    "from sklearn.preprocessing import LabelEncoder                       #label encoding\n",
    "from sklearn.preprocessing import Imputer                            #handling missing values\n",
    "from sklearn.impute import SimpleImputer                             #handling missing values\n",
    "from sklearn.preprocessing import Normalizer                         #data normalization\n",
    "from sklearn.pipeline import make_pipeline                           #pipeline\n",
    "from sklearn.preprocessing import PolynomialFeatures                 #polynomial regression\n",
    "from sklearn.linear_model import LinearRegression                    #linear regression\n",
    "import matplotlib.pyplot as plt                                      #data visualization\n",
    "from numpy import nan                                                #null value"
   ]
  },
  {
   "cell_type": "markdown",
   "metadata": {},
   "source": [
    "## Loading Boston dataset"
   ]
  },
  {
   "cell_type": "code",
   "execution_count": 2,
   "metadata": {},
   "outputs": [],
   "source": [
    "boston=load_boston()\n",
    "X=boston.data                                                        #features\n",
    "Y=boston.target                                                      #class label"
   ]
  },
  {
   "cell_type": "code",
   "execution_count": 3,
   "metadata": {},
   "outputs": [
    {
     "data": {
      "text/plain": [
       "(506, 13)"
      ]
     },
     "execution_count": 3,
     "metadata": {},
     "output_type": "execute_result"
    }
   ],
   "source": [
    "X.shape                                                              #rows,columns"
   ]
  },
  {
   "cell_type": "code",
   "execution_count": 4,
   "metadata": {},
   "outputs": [
    {
     "data": {
      "text/plain": [
       "(506,)"
      ]
     },
     "execution_count": 4,
     "metadata": {},
     "output_type": "execute_result"
    }
   ],
   "source": [
    "Y.shape                                                              #single column"
   ]
  },
  {
   "cell_type": "markdown",
   "metadata": {},
   "source": [
    "## Splitting Training and Testing data"
   ]
  },
  {
   "cell_type": "code",
   "execution_count": 5,
   "metadata": {},
   "outputs": [],
   "source": [
    "xtrain,xtest,ytrain,ytest=train_test_split(X,Y,test_size=0.30,random_state=1)\n",
    "\n",
    "#randomstate= randomly splitting"
   ]
  },
  {
   "cell_type": "code",
   "execution_count": 6,
   "metadata": {},
   "outputs": [
    {
     "data": {
      "text/plain": [
       "array([[6.29760e-01, 0.00000e+00, 8.14000e+00, ..., 2.10000e+01,\n",
       "        3.96900e+02, 8.26000e+00],\n",
       "       [1.71710e-01, 2.50000e+01, 5.13000e+00, ..., 1.97000e+01,\n",
       "        3.78080e+02, 1.44400e+01],\n",
       "       [9.82349e+00, 0.00000e+00, 1.81000e+01, ..., 2.02000e+01,\n",
       "        3.96900e+02, 2.12400e+01],\n",
       "       ...,\n",
       "       [5.87205e+00, 0.00000e+00, 1.81000e+01, ..., 2.02000e+01,\n",
       "        3.96900e+02, 1.93700e+01],\n",
       "       [3.30450e-01, 0.00000e+00, 6.20000e+00, ..., 1.74000e+01,\n",
       "        3.76750e+02, 1.08800e+01],\n",
       "       [8.01400e-02, 0.00000e+00, 5.96000e+00, ..., 1.92000e+01,\n",
       "        3.96900e+02, 8.77000e+00]])"
      ]
     },
     "execution_count": 6,
     "metadata": {},
     "output_type": "execute_result"
    }
   ],
   "source": [
    "xtrain"
   ]
  },
  {
   "cell_type": "code",
   "execution_count": 7,
   "metadata": {},
   "outputs": [
    {
     "data": {
      "text/plain": [
       "array([20.4, 16. , 13.3, 30.8, 27.5, 24.4, 24.4, 25.1, 43.8, 21.9, 26.2,\n",
       "       14.2, 20.8, 20.1, 23.1, 13.1, 16.2, 24.8, 20.2, 22.5, 14.8, 28.7,\n",
       "       20.1, 23.4, 32. , 19.1, 50. , 20.9, 21.7, 22. , 17.2, 30.3, 12.3,\n",
       "       21.4, 20.5, 35.2, 19.6, 22. , 21.7, 14.1, 21.1, 15. , 11.9, 20. ,\n",
       "       41.3, 18.7, 50. , 50. , 18.4, 17.9, 28.1, 16.1, 17.2, 28.6, 23.6,\n",
       "       20.4, 19.6, 18.8, 22.6, 17.7, 30.5, 18.2, 20.6, 24.4, 17.3, 13.3,\n",
       "       22.8, 20.5, 21.2, 18.8, 18.9, 18.2, 23.1, 32.7, 24. , 10.2, 19.5,\n",
       "       33.1, 13.4, 15.2, 24.8, 24.3,  9.5, 24.2, 18.5, 44. , 50. , 24.7,\n",
       "       21.5,  8.4, 21.8, 50. , 23.8, 32.4, 24.4, 17.6, 29.8,  9.6, 16.7,\n",
       "       13.8, 32. , 16.1,  8.3, 26.6, 14.3, 15. , 28.4, 32.2, 17.1, 29.4,\n",
       "       10.4, 16.8, 31.5, 27.5, 46.7, 27.5, 17.2, 23.4, 31.6, 13.8, 22. ,\n",
       "       17. , 24.8, 24.3, 25.2, 21.2, 20.6, 18.7,  5.6, 19.3, 19.8, 22.3,\n",
       "       20.3, 12. , 23.9, 16.5, 13.2, 33.2, 10.5,  7.5, 27.5, 18.4, 23.2,\n",
       "       13.8, 35.4, 23. , 25. ,  7.2, 14.4,  8.8, 22.7, 13.1, 18.9, 25. ,\n",
       "        8.5, 16.1, 29. , 23.1, 19.3, 33.1, 24.6, 23. , 15.2, 27.1, 19.6,\n",
       "       24.5, 20.3, 34.9, 17.1, 15.6, 26.4, 22.6, 15.6, 29. , 21.2, 22.4,\n",
       "       13.5, 11.7, 17.1, 31.7, 28.7, 24.7, 19. ,  7.2, 13.8, 12.8, 36.2,\n",
       "       38.7, 18.5, 29.1, 20.4, 11.3, 17.4,  8.7, 18.9, 23.2, 22.2, 29.1,\n",
       "       34.6, 25. , 23.2, 37.9,  7. , 18.2, 19.3, 26.7, 19.2, 30.1, 20.6,\n",
       "       50. , 18.7, 20.6, 31.1, 14. , 17.8, 42.3, 15.3, 18.5, 21.4, 15. ,\n",
       "       20.7, 21.4, 21.7, 22. , 31.6, 22. , 10.2, 22.6, 20. , 17.8, 13.6,\n",
       "       11.8, 19.4, 21.4, 32.9, 20.8, 31. , 17.5, 15.4, 10.8, 34.7, 25. ,\n",
       "       48.8, 42.8, 19.5, 30.1, 22.2, 50. , 23.1, 32.5, 19.6, 14.9, 26.4,\n",
       "       37. , 24.1, 24.5, 23.7,  7. , 22.2, 23.3, 15.6, 13.4, 30.7, 22.3,\n",
       "       17.4, 50. , 22.9, 19.7, 15.6, 17.8, 10.9, 35.1, 15.7, 50. , 22.8,\n",
       "       19.9, 20.1, 19.4, 46. , 23.2, 37.6, 23.1, 13.9, 33.3, 33. , 19.9,\n",
       "       20.3, 50. , 19.4, 19.5, 22.8, 16.6, 20. , 24.7, 45.4, 33.4, 21.4,\n",
       "       19.4,  5. ,  7.4, 20.1, 12.7, 20.3, 14.1, 18.3, 19.9, 23.3, 36.5,\n",
       "       20. , 17.8,  8.8, 21.6, 21.6, 15.2, 19.8, 21. , 27.1, 16.8, 14.4,\n",
       "       22.5, 18.6, 20.1, 19.6, 25. , 17.4, 19.7,  5. , 16.3, 13.1, 29.6,\n",
       "       13.1, 19.1, 12.1, 21.7, 21.9, 33.2, 29.9, 35.4, 15.1, 31.5, 21.7,\n",
       "       16.4, 14.3, 11.8, 14.1, 21.1, 18.4, 48.5, 13.8, 20.9, 22.8, 12.5,\n",
       "       24. , 21. ])"
      ]
     },
     "execution_count": 7,
     "metadata": {},
     "output_type": "execute_result"
    }
   ],
   "source": [
    "ytrain"
   ]
  },
  {
   "cell_type": "code",
   "execution_count": 8,
   "metadata": {},
   "outputs": [],
   "source": [
    "Y=np.random.choice(['Male','Female'],size=(10))                       #creating an array"
   ]
  },
  {
   "cell_type": "code",
   "execution_count": 9,
   "metadata": {},
   "outputs": [
    {
     "data": {
      "text/plain": [
       "array(['Female', 'Male', 'Female', 'Female', 'Female', 'Female', 'Male',\n",
       "       'Male', 'Female', 'Male'], dtype='<U6')"
      ]
     },
     "execution_count": 9,
     "metadata": {},
     "output_type": "execute_result"
    }
   ],
   "source": [
    "Y"
   ]
  },
  {
   "cell_type": "markdown",
   "metadata": {},
   "source": [
    "## Label Encoding"
   ]
  },
  {
   "cell_type": "code",
   "execution_count": 10,
   "metadata": {},
   "outputs": [
    {
     "data": {
      "text/plain": [
       "array([0, 1, 0, 0, 0, 0, 1, 1, 0, 1], dtype=int64)"
      ]
     },
     "execution_count": 10,
     "metadata": {},
     "output_type": "execute_result"
    }
   ],
   "source": [
    "le=LabelEncoder()\n",
    "yt=le.fit_transform(Y)\n",
    "yt\n",
    "\n",
    "#0 = Female, 1 = Male"
   ]
  },
  {
   "cell_type": "markdown",
   "metadata": {},
   "source": [
    "## Imputer class for missing data"
   ]
  },
  {
   "cell_type": "code",
   "execution_count": 11,
   "metadata": {},
   "outputs": [],
   "source": [
    "data=np.array([[1,np.nan,2],[2,3,4],[np.nan,0,4]])"
   ]
  },
  {
   "cell_type": "code",
   "execution_count": 12,
   "metadata": {},
   "outputs": [
    {
     "name": "stderr",
     "output_type": "stream",
     "text": [
      "C:\\Users\\admin\\Anaconda3\\lib\\site-packages\\sklearn\\utils\\deprecation.py:58: DeprecationWarning: Class Imputer is deprecated; Imputer was deprecated in version 0.20 and will be removed in 0.22. Import impute.SimpleImputer from sklearn instead.\n",
      "  warnings.warn(msg, category=DeprecationWarning)\n"
     ]
    }
   ],
   "source": [
    "imp=Imputer(strategy='mean')     \n",
    "\n",
    "#strategy applied column wise (for same feature)\n",
    "#other strategies: median,most_frequent"
   ]
  },
  {
   "cell_type": "code",
   "execution_count": 13,
   "metadata": {},
   "outputs": [
    {
     "data": {
      "text/plain": [
       "array([[1. , 1.5, 2. ],\n",
       "       [2. , 3. , 4. ],\n",
       "       [1.5, 0. , 4. ]])"
      ]
     },
     "execution_count": 13,
     "metadata": {},
     "output_type": "execute_result"
    }
   ],
   "source": [
    "imp.fit_transform(data)"
   ]
  },
  {
   "cell_type": "markdown",
   "metadata": {},
   "source": [
    "## Normalization"
   ]
  },
  {
   "cell_type": "code",
   "execution_count": 14,
   "metadata": {},
   "outputs": [],
   "source": [
    "data=np.array([[1,2],[2,3]])"
   ]
  },
  {
   "cell_type": "code",
   "execution_count": 15,
   "metadata": {},
   "outputs": [],
   "source": [
    "n_max=Normalizer(norm='max')                                 #Max normalizer"
   ]
  },
  {
   "cell_type": "code",
   "execution_count": 16,
   "metadata": {},
   "outputs": [
    {
     "data": {
      "text/plain": [
       "array([[0.5       , 1.        ],\n",
       "       [0.66666667, 1.        ]])"
      ]
     },
     "execution_count": 16,
     "metadata": {},
     "output_type": "execute_result"
    }
   ],
   "source": [
    "n_max.fit_transform(data)"
   ]
  },
  {
   "cell_type": "code",
   "execution_count": 17,
   "metadata": {},
   "outputs": [],
   "source": [
    "n_l=Normalizer(norm='l1')                                    #L1 normalizer"
   ]
  },
  {
   "cell_type": "code",
   "execution_count": 18,
   "metadata": {},
   "outputs": [
    {
     "data": {
      "text/plain": [
       "array([[0.33333333, 0.66666667],\n",
       "       [0.4       , 0.6       ]])"
      ]
     },
     "execution_count": 18,
     "metadata": {},
     "output_type": "execute_result"
    }
   ],
   "source": [
    "n_l.fit_transform(data)"
   ]
  },
  {
   "cell_type": "code",
   "execution_count": 19,
   "metadata": {},
   "outputs": [
    {
     "data": {
      "text/plain": [
       "array([[0.4472136 , 0.89442719],\n",
       "       [0.5547002 , 0.83205029]])"
      ]
     },
     "execution_count": 19,
     "metadata": {},
     "output_type": "execute_result"
    }
   ],
   "source": [
    "n_l2=Normalizer(norm='l2')                                   #L2 normalizer\n",
    "n_l2.fit_transform(data)"
   ]
  },
  {
   "cell_type": "markdown",
   "metadata": {},
   "source": [
    "## Pipeline"
   ]
  },
  {
   "cell_type": "code",
   "execution_count": 20,
   "metadata": {},
   "outputs": [],
   "source": [
    "x=np.array([[np.nan,1,2],[2,3,np.nan]])\n",
    "y=np.array([4,5])"
   ]
  },
  {
   "cell_type": "code",
   "execution_count": 21,
   "metadata": {},
   "outputs": [
    {
     "data": {
      "text/plain": [
       "Pipeline(memory=None,\n",
       "     steps=[('simpleimputer', SimpleImputer(copy=True, fill_value=None, missing_values=nan, strategy='mean',\n",
       "       verbose=0)), ('polynomialfeatures', PolynomialFeatures(degree=2, include_bias=True, interaction_only=False)), ('linearregression', LinearRegression(copy_X=True, fit_intercept=True, n_jobs=None,\n",
       "         normalize=False))])"
      ]
     },
     "execution_count": 21,
     "metadata": {},
     "output_type": "execute_result"
    }
   ],
   "source": [
    "model=make_pipeline(SimpleImputer(strategy='mean'), PolynomialFeatures(degree=2),LinearRegression())\n",
    "model.fit(x,y)"
   ]
  },
  {
   "cell_type": "code",
   "execution_count": 22,
   "metadata": {},
   "outputs": [
    {
     "data": {
      "image/png": "[encoded data removed]",
      "text/plain": [
       "<Figure size 432x288 with 1 Axes>"
      ]
     },
     "metadata": {},
     "output_type": "display_data"
    }
   ],
   "source": [
    "plt.plot(x,y,'o')\n",
    "plt.plot(x,model.predict(x))                                #regression line\n",
    "plt.show()"
   ]
  }
 ],
 "metadata": {
  "kernelspec": {
   "display_name": "Python 3",
   "language": "python",
   "name": "python3"
  },
  "language_info": {
   "codemirror_mode": {
    "name": "ipython",
    "version": 3
   },
   "file_extension": ".py",
   "mimetype": "text/x-python",
   "name": "python",
   "nbconvert_exporter": "python",
   "pygments_lexer": "ipython3",
   "version": "3.6.5"
  }
 },
 "nbformat": 4,
 "nbformat_minor": 2
}
